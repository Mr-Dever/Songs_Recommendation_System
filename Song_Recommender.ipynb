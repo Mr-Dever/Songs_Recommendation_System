{
  "nbformat": 4,
  "nbformat_minor": 0,
  "metadata": {
    "colab": {
      "name": "Song_Recommender.ipynb",
      "private_outputs": true,
      "provenance": [],
      "collapsed_sections": []
    },
    "kernelspec": {
      "display_name": "Python 3",
      "language": "python",
      "name": "python3"
    },
    "language_info": {
      "codemirror_mode": {
        "name": "ipython",
        "version": 3
      },
      "file_extension": ".py",
      "mimetype": "text/x-python",
      "name": "python",
      "nbconvert_exporter": "python",
      "pygments_lexer": "ipython3",
      "version": "3.8.8"
    }
  },
  "cells": [
    {
      "cell_type": "code",
      "metadata": {
        "id": "yzrdKBfva6Jg"
      },
      "source": [
        "import pandas as pd\n",
        "import numpy as np\n",
        "import urllib.request\n",
        "import re"
      ],
      "execution_count": null,
      "outputs": []
    },
    {
      "cell_type": "code",
      "metadata": {
        "id": "xxaPSwhEcWD4"
      },
      "source": [
        "from sklearn.model_selection import train_test_split\n",
        "import time\n",
        "import Recommenders as Recommenders"
      ],
      "execution_count": null,
      "outputs": []
    },
    {
      "cell_type": "code",
      "metadata": {
        "id": "mj-qIwnNc1PZ"
      },
      "source": [
        "song_df1 = pd.read_csv('/content/songs.csv')"
      ],
      "execution_count": null,
      "outputs": []
    },
    {
      "cell_type": "code",
      "metadata": {
        "id": "ci7Bk-JG9ecd"
      },
      "source": [
        "song_df2 = pd.read_csv('/content/videosongs.csv')"
      ],
      "execution_count": null,
      "outputs": []
    },
    {
      "cell_type": "markdown",
      "metadata": {
        "id": "JaM6qucNdu1o"
      },
      "source": [
        "Now we’ll display the no. of songs contained i.e., no of rows contained in the dataset in the file for our better understanding."
      ]
    },
    {
      "cell_type": "code",
      "metadata": {
        "id": "DrAtA3CscyHJ"
      },
      "source": [
        "print(\"Total no of songs:\",len(song_df1))"
      ],
      "execution_count": null,
      "outputs": []
    },
    {
      "cell_type": "code",
      "metadata": {
        "id": "ubtIiwelepYE"
      },
      "source": [
        "song_df1 = song_df1.head(2500)"
      ],
      "execution_count": null,
      "outputs": []
    },
    {
      "cell_type": "code",
      "metadata": {
        "id": "oKsz5aVG91am"
      },
      "source": [
        "print(\"Total no of songs:\",len(song_df2))"
      ],
      "execution_count": null,
      "outputs": []
    },
    {
      "cell_type": "code",
      "metadata": {
        "id": "o8bl7lJY94ju"
      },
      "source": [
        "song_df2.rename(columns={'Unnamed: 0':'video_id'},inplace=True)"
      ],
      "execution_count": null,
      "outputs": []
    },
    {
      "cell_type": "code",
      "metadata": {
        "id": "XOQE7EL6-mbM"
      },
      "source": [
        "song_df1['video_id'] = song_df2['video_id']"
      ],
      "execution_count": null,
      "outputs": []
    },
    {
      "cell_type": "code",
      "metadata": {
        "id": "8oSE4fBu-0vO"
      },
      "source": [
        "song_df1"
      ],
      "execution_count": null,
      "outputs": []
    },
    {
      "cell_type": "code",
      "metadata": {
        "id": "qXcHzxti-gc1"
      },
      "source": [
        "song_df2"
      ],
      "execution_count": null,
      "outputs": []
    },
    {
      "cell_type": "code",
      "metadata": {
        "id": "dbTuAYejpRVh"
      },
      "source": [
        "song_df1 = pd.merge(song_df1 , song_df2 , on='video_id')"
      ],
      "execution_count": null,
      "outputs": []
    },
    {
      "cell_type": "markdown",
      "metadata": {
        "id": "-X7Jo7fJdsOz"
      },
      "source": [
        "Next, we’ll create a dataframe which will be a subset of the given dataset:"
      ]
    },
    {
      "cell_type": "code",
      "metadata": {
        "id": "m1dVP61udFmx"
      },
      "source": [
        "#Merge song title and artist_name columns to make a new column\n",
        "song_df1['song'] = song_df1['title'].map(str) + \" - \" + song_df1['artist_name'] + \" - \" + song_df1['Link']"
      ],
      "execution_count": null,
      "outputs": []
    },
    {
      "cell_type": "markdown",
      "metadata": {
        "id": "ldDJgoSodqW4"
      },
      "source": [
        "The column listen_count denotes the no of times the song has been listened. Using this column, we’ll find the dataframe consisting of popular songs:"
      ]
    },
    {
      "cell_type": "code",
      "metadata": {
        "id": "Hx9niWvVdRyr"
      },
      "source": [
        "song_gr = song_df1.groupby(['song','Link']).agg({'listen_count': 'count'}).reset_index()\n",
        "grouped_sum = song_gr['listen_count'].sum()\n",
        "song_gr['percentage']  = song_gr['listen_count'].div(grouped_sum)*100\n",
        "song_gr.sort_values(['listen_count', 'song' ], ascending = [0,1])"
      ],
      "execution_count": null,
      "outputs": []
    },
    {
      "cell_type": "markdown",
      "metadata": {
        "id": "GUA84l11di94"
      },
      "source": [
        "Below code is the no. of unique users contained in the dataset:"
      ]
    },
    {
      "cell_type": "code",
      "metadata": {
        "id": "F-HTX6X3diG4"
      },
      "source": [
        "u = song_df1['user_id'].unique()\n",
        "print(\"The no. of unique users:\", len(u))"
      ],
      "execution_count": null,
      "outputs": []
    },
    {
      "cell_type": "markdown",
      "metadata": {
        "id": "Ot3PvtOndz8I"
      },
      "source": [
        "Now, we define a dataframe train which will create a song recommender:"
      ]
    },
    {
      "cell_type": "code",
      "metadata": {
        "id": "kYw7ghund0gF"
      },
      "source": [
        "train, test_data = train_test_split(song_df1, test_size = 0.20, random_state=0)\n",
        "print(train.head(5))"
      ],
      "execution_count": null,
      "outputs": []
    },
    {
      "cell_type": "markdown",
      "metadata": {
        "id": "dUcg4HDUevsI"
      },
      "source": [
        "First, we create an instance of the package, after that we proceed for making the list:"
      ]
    },
    {
      "cell_type": "code",
      "metadata": {
        "id": "_vUjVQo-d-3s"
      },
      "source": [
        "is_model = Recommenders.similarity_recommender()\n",
        "is_model.create_s(train, 'user_id', 'song')"
      ],
      "execution_count": null,
      "outputs": []
    },
    {
      "cell_type": "code",
      "metadata": {
        "id": "4zpg5RzZerVI"
      },
      "source": [
        "#Print the songs for the user\n",
        "user_id1 = u[15]\n",
        "user_items1 = is_model.get_u_items(user_id1)\n",
        "print(\"------------------------------------------------------------------------------------\")\n",
        "print(\"Songs played by user %s:\" % user_id1)\n",
        "print(\"------------------------------------------------------------------------------------\")\n",
        "for user_item in user_items1:\n",
        "    print(user_item)\n",
        "print(\"----------------------------------------------------------------------\")\n",
        "print(\"Similar songs recommended for the user:\")\n",
        "print(\"----------------------------------------------------------------------\")\n",
        "#Recommend songs for the user using personalized model\n",
        "is_model.recommend_s(user_id1)"
      ],
      "execution_count": null,
      "outputs": []
    },
    {
      "cell_type": "code",
      "metadata": {
        "id": "_lVqo7C5epYS"
      },
      "source": [
        ""
      ],
      "execution_count": null,
      "outputs": []
    }
  ]
}